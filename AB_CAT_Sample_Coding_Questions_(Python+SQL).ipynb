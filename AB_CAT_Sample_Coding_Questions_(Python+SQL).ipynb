{
  "nbformat": 4,
  "nbformat_minor": 0,
  "metadata": {
    "colab": {
      "provenance": [],
      "include_colab_link": true
    },
    "kernelspec": {
      "name": "python3",
      "display_name": "Python 3"
    },
    "language_info": {
      "name": "python"
    }
  },
  "cells": [
    {
      "cell_type": "markdown",
      "metadata": {
        "id": "view-in-github",
        "colab_type": "text"
      },
      "source": [
        "<a href=\"https://colab.research.google.com/github/rm17octo22/python_practice/blob/main/AB_CAT_Sample_Coding_Questions_(Python%2BSQL).ipynb\" target=\"_parent\"><img src=\"https://colab.research.google.com/assets/colab-badge.svg\" alt=\"Open In Colab\"/></a>"
      ]
    },
    {
      "cell_type": "markdown",
      "source": [
        "# ***Python Sample Questions***"
      ],
      "metadata": {
        "id": "uTGenspkx_al"
      }
    },
    {
      "cell_type": "markdown",
      "source": [
        "**Q1) Write a program that takes a list of integers from the user and prints their sum.**\n",
        "\n",
        "**Sample Input:** 1 2 3 4 5\n",
        "\n",
        "**Sample Output:** Sum: 15\n",
        "\n"
      ],
      "metadata": {
        "id": "O-SM35v6eN6Q"
      }
    },
    {
      "cell_type": "code",
      "source": [
        "numbers = list(map(int, input(\"Enter numbers separated by spaces: \").split()))\n",
        "sum_of_numbers = sum(numbers)\n",
        "print(f\"Sum: {sum_of_numbers}\")"
      ],
      "metadata": {
        "id": "KKV69kcSeVBH",
        "colab": {
          "base_uri": "https://localhost:8080/"
        },
        "outputId": "3805a503-91b2-42ca-a526-575f822415ec"
      },
      "execution_count": null,
      "outputs": [
        {
          "output_type": "stream",
          "name": "stdout",
          "text": [
            "Enter numbers separated by spaces: 1 2 3 4 5\n",
            "Sum: 15\n"
          ]
        }
      ]
    },
    {
      "cell_type": "markdown",
      "source": [
        "**Q2) Write a program that takes a list of words from the user and concatenates them into a single sentence.**\n",
        "\n",
        "**Sample Input:** Hello world this is Python\n",
        "\n",
        "**Sample Output:** Concatenated Sentence: Hello world this is Python\n",
        "\n"
      ],
      "metadata": {
        "id": "U3_5UCNdeZSG"
      }
    },
    {
      "cell_type": "code",
      "source": [
        "words = input(\"Enter words separated by spaces: \").split()\n",
        "concatenated_sentence = ' '.join(words)\n",
        "print(f\"Concatenated Sentence: {concatenated_sentence}\")"
      ],
      "metadata": {
        "id": "gmt3Ka3SekyN",
        "colab": {
          "base_uri": "https://localhost:8080/"
        },
        "outputId": "2464775e-d4f0-421b-c674-29be630229af"
      },
      "execution_count": null,
      "outputs": [
        {
          "output_type": "stream",
          "name": "stdout",
          "text": [
            "Enter words separated by spaces: Hello world this is Python\n",
            "Concatenated Sentence: Hello world this is Python\n"
          ]
        }
      ]
    },
    {
      "cell_type": "markdown",
      "source": [
        "**Q3) Write a program that takes a list of comma-separated values (CSV) from the user and converts it into a list.**\n",
        "\n",
        "**Sample Input:** apple,banana,cherry,dates\n",
        "\n",
        "**Sample Output:** List: ['apple', 'banana', 'cherry', 'dates']\n",
        "\n"
      ],
      "metadata": {
        "id": "1knr8HzHemOc"
      }
    },
    {
      "cell_type": "code",
      "source": [
        "csv_input = input(\"Enter comma-separated values: \").split(',')\n",
        "values_list = [value.strip() for value in csv_input]\n",
        "print(f\"List: {values_list}\")"
      ],
      "metadata": {
        "id": "gDOJScUmev2D",
        "colab": {
          "base_uri": "https://localhost:8080/"
        },
        "outputId": "4eb5dcc6-c6bb-4792-d370-a0d5ad9dbfc8"
      },
      "execution_count": null,
      "outputs": [
        {
          "output_type": "stream",
          "name": "stdout",
          "text": [
            "Enter comma-separated values: apple,banana,cherry,dates\n",
            "List: ['apple', 'banana', 'cherry', 'dates']\n"
          ]
        }
      ]
    },
    {
      "cell_type": "markdown",
      "source": [
        "**Q4) Write a program that takes a string input from the user and prints the reverse of the string.**\n",
        "\n",
        "**Sample Input:** OpenAI\n",
        "\n",
        "**Sample Output:** Reversed String: IAnepO\n",
        "\n"
      ],
      "metadata": {
        "id": "_jMWrgytewpv"
      }
    },
    {
      "cell_type": "code",
      "source": [
        "user_string = input(\"Enter a string: \")\n",
        "reversed_string = user_string[::-1]\n",
        "print(f\"Reversed String: {reversed_string}\")\n"
      ],
      "metadata": {
        "id": "gup-enPLfP_e",
        "colab": {
          "base_uri": "https://localhost:8080/"
        },
        "outputId": "eb21f319-09a8-4d35-8580-3e2e0e3a47c5"
      },
      "execution_count": null,
      "outputs": [
        {
          "output_type": "stream",
          "name": "stdout",
          "text": [
            "Enter a string: OpenAI\n",
            "Reversed String: IAnepO\n"
          ]
        }
      ]
    },
    {
      "cell_type": "markdown",
      "source": [
        "**Q5) Write a program that takes an integer input from the user and prints the factorial of that number.**\n",
        "\n",
        "**Sample Input:** 5\n",
        "\n",
        "**Sample Output: Factorial:** 120\n",
        "\n"
      ],
      "metadata": {
        "id": "exIejq34e5qo"
      }
    },
    {
      "cell_type": "code",
      "source": [
        "def factorial(n):\n",
        "    if n == 0:\n",
        "        return 1\n",
        "    else:\n",
        "        return n * factorial(n-1)\n",
        "\n",
        "num = int(input(\"Enter an integer: \"))\n",
        "factorial_result = factorial(num)\n",
        "print(f\"Factorial: {factorial_result}\")"
      ],
      "metadata": {
        "id": "c7oj5YDifKMN",
        "colab": {
          "base_uri": "https://localhost:8080/"
        },
        "outputId": "3e31c5ad-4a23-47c9-aa2a-0caaf9b447c5"
      },
      "execution_count": null,
      "outputs": [
        {
          "output_type": "stream",
          "name": "stdout",
          "text": [
            "Enter an integer: 5\n",
            "Factorial: 120\n"
          ]
        }
      ]
    },
    {
      "cell_type": "markdown",
      "source": [
        "**Q6) Write a program that maps a list of words into a list of integers representing the lengths of the corresponding words. Print length of each word on separate line.**\n",
        "\n",
        "**Input**\n",
        "\n",
        "3\n",
        "\n",
        "one\n",
        "\n",
        "two\n",
        "\n",
        "three\n",
        "\n",
        "**Output**\n",
        "\n",
        "3\n",
        "\n",
        "3\n",
        "\n",
        "5\n",
        "\n",
        "**Explanation**\n",
        "\n",
        "Here 3, 3 and 5 corresponds to length of 'one', 'two' and 'three' respectively."
      ],
      "metadata": {
        "id": "5iPbttUPcRFn"
      }
    },
    {
      "cell_type": "code",
      "source": [
        "# Read the variable from STDIN\n",
        "n = int(input())\n",
        "lengths =[]\n",
        "\n",
        "for i in range(n):\n",
        "    word = input()\n",
        "    length = len(word)\n",
        "    lengths.append(length)\n",
        "\n",
        "# Output the variable to STDOUT\n",
        "for l in lengths:\n",
        "    print(l)"
      ],
      "metadata": {
        "colab": {
          "base_uri": "https://localhost:8080/"
        },
        "id": "aQMxfCfCcq1C",
        "outputId": "f488ca01-e6fe-4fdf-ec85-40109c80e025"
      },
      "execution_count": null,
      "outputs": [
        {
          "output_type": "stream",
          "name": "stdout",
          "text": [
            "3\n",
            "ONE\n",
            "TWO\n",
            "THREE\n",
            "3\n",
            "3\n",
            "5\n"
          ]
        }
      ]
    },
    {
      "cell_type": "markdown",
      "source": [
        "**Q7) Write a program to reverse a number without using the in-build function.**\n",
        "\n",
        "**Sample Input**\n",
        "\n",
        "534750\n",
        "\n",
        "**Sample Output**\n",
        "\n",
        "057435\n",
        "\n"
      ],
      "metadata": {
        "id": "UHH1as9AdRFH"
      }
    },
    {
      "cell_type": "code",
      "source": [
        "# Read the variable from STDIN\n",
        "num = input()\n",
        "\n",
        "rev_num = ''\n",
        "\n",
        "for i in range(len(num)-1,-1,-1):\n",
        "    rev_num += num[i]\n",
        "\n",
        "# Output the variable to STDOUT\n",
        "print(rev_num)"
      ],
      "metadata": {
        "colab": {
          "base_uri": "https://localhost:8080/"
        },
        "id": "4bMH1-uudbPQ",
        "outputId": "94dcc5fa-78fd-4ca5-fd05-22017d49788d"
      },
      "execution_count": null,
      "outputs": [
        {
          "output_type": "stream",
          "name": "stdout",
          "text": [
            "534750\n",
            "057435\n"
          ]
        }
      ]
    },
    {
      "cell_type": "markdown",
      "source": [
        "**Q8) Write a program that takes two strings as input and checks if any substring of at least one character from the first string can concatenate with any substring of at least one character from the second string to form a palindrome. If possible, return \"YES\", otherwise return \"NO\".**\n",
        "\n",
        "**Sample Input**\n",
        "\n",
        "alex\n",
        "\n",
        "exa\n",
        "\n",
        "**Sample Output**\n",
        "\n",
        "YES\n",
        "\n"
      ],
      "metadata": {
        "id": "L_zwtBlm5VsL"
      }
    },
    {
      "cell_type": "code",
      "source": [
        "def is_palindrome(s):\n",
        "    return s == s[::-1]\n",
        "\n",
        "def can_form_palindrome(name1, name2):\n",
        "    for i in range(len(name1)):\n",
        "        for j in range(i + 1, len(name1) + 1):\n",
        "            substring1 = name1[i:j]\n",
        "            for k in range(len(name2)):\n",
        "                for l in range(k + 1, len(name2) + 1):\n",
        "                    substring2 = name2[k:l]\n",
        "                    if is_palindrome(substring1 + substring2):\n",
        "                        return \"YES\"\n",
        "    return \"NO\"\n",
        "\n",
        "name1 = input(\"Enter the first name: \")\n",
        "name2 = input(\"Enter the second name: \")\n",
        "\n",
        "print(can_form_palindrome(name1, name2))"
      ],
      "metadata": {
        "colab": {
          "base_uri": "https://localhost:8080/"
        },
        "id": "58sAw0qV5qjD",
        "outputId": "1f26a53f-5f68-4734-ad70-39b8b8e49730"
      },
      "execution_count": null,
      "outputs": [
        {
          "output_type": "stream",
          "name": "stdout",
          "text": [
            "Enter the first name: alex\n",
            "Enter the second name: exa\n",
            "YES\n"
          ]
        }
      ]
    },
    {
      "cell_type": "markdown",
      "source": [
        "**Q9) Write a program that takes two strings as input and checks if any prefix of the first string can concatenate with any suffix of the second string to form a palindrome. If possible, return \"YES\", otherwise return \"NO\".**\n",
        "\n",
        "**Sample Input**\n",
        "\n",
        "anna\n",
        "\n",
        "nana\n",
        "\n",
        "**Sample Output**\n",
        "\n",
        "YES\n",
        "\n"
      ],
      "metadata": {
        "id": "vp68ItBa6KKE"
      }
    },
    {
      "cell_type": "code",
      "source": [
        "def is_palindrome(s):\n",
        "    return s == s[::-1]\n",
        "\n",
        "def can_form_palindrome_prefix_suffix(name1, name2):\n",
        "    for i in range(len(name1)):\n",
        "        prefix = name1[:i + 1]\n",
        "        for j in range(len(name2)):\n",
        "            suffix = name2[j:]\n",
        "            if is_palindrome(prefix + suffix):\n",
        "                return \"YES\"\n",
        "    return \"NO\"\n",
        "\n",
        "name1 = input(\"Enter the first name: \")\n",
        "name2 = input(\"Enter the second name: \")\n",
        "\n",
        "print(can_form_palindrome_prefix_suffix(name1, name2))"
      ],
      "metadata": {
        "colab": {
          "base_uri": "https://localhost:8080/"
        },
        "id": "1XInVXsd6Yoi",
        "outputId": "1cd7ca1f-e90b-4f16-8203-508345ae617f"
      },
      "execution_count": null,
      "outputs": [
        {
          "output_type": "stream",
          "name": "stdout",
          "text": [
            "Enter the first name: anna\n",
            "Enter the second name: nana\n",
            "YES\n"
          ]
        }
      ]
    },
    {
      "cell_type": "markdown",
      "source": [
        "**Q10) Parents recently had a kid and they are a huge fan of palindromic strings. Now their relatives have suggested creating a name for their child from both the parent's first names. Now find a way to create a palindromic name from their parents' name. Take a substring of size at least one from both of their names and concatenate them which should create a palindrome. If this is possible in any way, return \"YES\" else return \"NO\".**\n",
        "\n",
        "**Sample Input**\n",
        "\n",
        "maria\n",
        "\n",
        "mira\n",
        "\n",
        "**Sample Output**\n",
        "\n",
        "YES\n",
        "\n",
        "**Explanation**\n",
        "\n",
        "If you remove the substring, 'ari' from 'maria' and 'ira' from 'mira' then the final string after concatenation will be 'ariira'. This name is a palindrome so we return 'YES'."
      ],
      "metadata": {
        "id": "4cPUiVpnhkd7"
      }
    },
    {
      "cell_type": "markdown",
      "source": [
        "\n",
        "\n",
        "```\n",
        "#\n",
        "# Complete the 'palindromicString' function below.\n",
        "#\n",
        "# The function is expected to return an STRING.\n",
        "# The function accepts following parameters:\n",
        "#  1. STRING father\n",
        "#  2. STRING mother\n",
        "#\n",
        "\n",
        "def palindromicString(father, mother):\n",
        "    # Write your code here\n",
        "\n",
        "if __name__ == '__main__':\n",
        "    father = input()\n",
        "    mother = input()\n",
        "    result = palindromicString(father, mother)\n",
        "    print(result)\n",
        "\n",
        "```\n",
        "\n"
      ],
      "metadata": {
        "id": "5JSwA1jb2yWK"
      }
    },
    {
      "cell_type": "code",
      "source": [
        "# Complete the 'palindromicString' function below.\n",
        "#\n",
        "# The function is expected to return an STRING.\n",
        "# The function accepts following parameters:\n",
        "# 1. STRING father\n",
        "# 2. STRING mother\n",
        "#\n",
        "\n",
        "def palindromicString(father, mother):\n",
        "\tfor i in range(len(father)):\n",
        "\t\tfor j in range(len(mother)):\n",
        "\t\t\tif father[i:] == mother[:len(father)-i]:\n",
        "\t\t\t\tpalindromic_name = father + mother[len(father)-i:]\n",
        "\t\t\t\treturn \"YES\" if palindromic_name == palindromic_name[::-1] else 'NO'\n",
        "\treturn 'YES'\n",
        "\n",
        "\n",
        "if __name__ == '__main__':\n",
        "\tfather = input()\n",
        "\n",
        "\tmother = input()\n",
        "\n",
        "\tresult = palindromicString(father, mother)\n",
        "\n",
        "\tprint(result)\n"
      ],
      "metadata": {
        "colab": {
          "base_uri": "https://localhost:8080/"
        },
        "id": "1s10wi3jh-SB",
        "outputId": "efc7f8e5-d1c2-42f1-d72a-9768581ec840"
      },
      "execution_count": null,
      "outputs": [
        {
          "output_type": "stream",
          "name": "stdout",
          "text": [
            "maria\n",
            "mira\n",
            "YES\n"
          ]
        }
      ]
    },
    {
      "cell_type": "markdown",
      "source": [
        "**Q11) Write a program that takes a string of numbers separated by commas, and finds the sum and product of the numbers.**\n",
        "\n",
        "**Sample Input**\n",
        "\n",
        "\n",
        "2,3,4,5\n",
        "\n",
        "**Sample Output**\n",
        "\n",
        "Sum = 14 Product = 120\n",
        "\n",
        "\n"
      ],
      "metadata": {
        "id": "G0FAzFus670A"
      }
    },
    {
      "cell_type": "code",
      "source": [
        "def sum_and_product(numbers_str):\n",
        "    numbers = list(map(int, numbers_str.split(',')))\n",
        "    total_sum = sum(numbers)\n",
        "    total_product = 1\n",
        "    for number in numbers:\n",
        "        total_product *= number\n",
        "    return total_sum, total_product\n",
        "\n",
        "numbers_str = input(\"Enter numbers separated by commas: \")\n",
        "total_sum, total_product = sum_and_product(numbers_str)\n",
        "print(f\"Sum = {total_sum} Product = {total_product}\")"
      ],
      "metadata": {
        "colab": {
          "base_uri": "https://localhost:8080/"
        },
        "id": "lprBRbzs7GOR",
        "outputId": "c016930d-57e0-40fc-f764-64e144793668"
      },
      "execution_count": null,
      "outputs": [
        {
          "output_type": "stream",
          "name": "stdout",
          "text": [
            "Enter numbers separated by commas: 2,3,4,5\n",
            "Sum = 14 Product = 120\n"
          ]
        }
      ]
    },
    {
      "cell_type": "markdown",
      "source": [
        "**Q12) You are given some numbers in a string separated by a comma \",\". You need to find the smallest and the largest number from that input.**\n",
        "\n",
        "**Sample Input**\n",
        "\n",
        "78,81,12,54,1010\n",
        "\n",
        "**Sample Output**\n",
        "\n",
        "Smallest = 12 Largest = 1010"
      ],
      "metadata": {
        "id": "4zPpBM3QVNzL"
      }
    },
    {
      "cell_type": "code",
      "execution_count": null,
      "metadata": {
        "colab": {
          "base_uri": "https://localhost:8080/"
        },
        "id": "PmSQyHxEPNvV",
        "outputId": "b46d145d-9856-48b2-dd05-b7e6ad004656"
      },
      "outputs": [
        {
          "output_type": "stream",
          "name": "stdout",
          "text": [
            "78,81,12,54,1010\n",
            "Smallest = 12 Largest = 1010\n"
          ]
        }
      ],
      "source": [
        "# Read the variable from STDIN\n",
        "a = input().split(',')\n",
        "\n",
        "numbers = [int(num) for num in a ]\n",
        "numbers.sort()\n",
        "Smallest = numbers[0]\n",
        "Largest = numbers[-1]\n",
        "\n",
        "# Output the variable to STDOUT\n",
        "print(\"Smallest =\", Smallest, \"Largest =\", Largest)"
      ]
    },
    {
      "cell_type": "markdown",
      "source": [
        "**Q13) You are given two arrays containing user IDs. array_1 has N user IDs and array_2 has all the user IDs i.e array_1 ID and an additional ID. Your task is to find out this additional ID.**\n",
        "\n",
        "**Sample Input**\n",
        "\n",
        "1 4 7 3\n",
        "\n",
        "1 2 3 4 5 6 7\n",
        "\n",
        "**Sample Output**\n",
        "\n",
        "2 5 6\n",
        "\n",
        "**Explanation**\n",
        "\n",
        "2, 5, and 6 are not present in the array_1 ID so that means its additional ID"
      ],
      "metadata": {
        "id": "udklb777XIr4"
      }
    },
    {
      "cell_type": "code",
      "source": [
        "import numpy as np\n",
        "\n",
        "def additionalID(array_1, array_2):\n",
        "    diff = np.setdiff1d(array_2, array_1)\n",
        "    return diff\n",
        "\n",
        "if __name__ == '__main__':\n",
        "    ls1 = np.array(list(map(int,input().split())))\n",
        "    ls2 = np.array(list(map(int,input().split())))\n",
        "    ans = additionalID(ls1, ls2)\n",
        "    ans = list(ans.tolist());\n",
        "    ans.sort()\n",
        "    print(*ans,sep=\" \")"
      ],
      "metadata": {
        "colab": {
          "base_uri": "https://localhost:8080/"
        },
        "id": "Rrh3kx3IXtVL",
        "outputId": "de4d3190-bac4-4583-b6ed-7785ffe85723"
      },
      "execution_count": null,
      "outputs": [
        {
          "output_type": "stream",
          "name": "stdout",
          "text": [
            "1 4 7 3  \n",
            "1 2 3 4 5 6 7\n",
            "2 5 6\n"
          ]
        }
      ]
    },
    {
      "cell_type": "markdown",
      "source": [
        "**Q14) Write a program that takes a list of integers from the user and prints their average.**\n",
        "\n",
        "\n",
        "**Sample Input:** 10 20 30 40 50\n",
        "\n",
        "**Sample Output:** Average: 30.0\n",
        "\n"
      ],
      "metadata": {
        "id": "1jbLpaMl70C7"
      }
    },
    {
      "cell_type": "code",
      "source": [
        "numbers = list(map(int, input(\"Enter numbers separated by spaces: \").split()))\n",
        "average_of_numbers = sum(numbers) / len(numbers)\n",
        "print(f\"Average: {average_of_numbers}\")"
      ],
      "metadata": {
        "colab": {
          "base_uri": "https://localhost:8080/"
        },
        "id": "3T8z6ZfK79nP",
        "outputId": "eb8390ff-548e-4916-d2a2-5641bfc1e5ea"
      },
      "execution_count": null,
      "outputs": [
        {
          "output_type": "stream",
          "name": "stdout",
          "text": [
            "Enter numbers separated by spaces: 10 20 30 40 50\n",
            "Average: 30.0\n"
          ]
        }
      ]
    },
    {
      "cell_type": "markdown",
      "source": [
        "**Q15) Create a DataFrame and group by multiple columns, then calculate the mean of each group.**\n",
        "\n",
        "\n",
        "\n"
      ],
      "metadata": {
        "id": "O5BMs7w67_g0"
      }
    },
    {
      "cell_type": "code",
      "source": [
        "import pandas as pd"
      ],
      "metadata": {
        "id": "sxz8m-qaAWOs"
      },
      "execution_count": null,
      "outputs": []
    },
    {
      "cell_type": "code",
      "source": [
        "df = pd.DataFrame({\n",
        "    'Category1': ['A', 'A', 'B', 'B'],\n",
        "    'Category2': ['X', 'Y', 'X', 'Y'],\n",
        "    'Values': [10, 20, 30, 40]\n",
        "})\n",
        "\n",
        "group_means = df.groupby(['Category1', 'Category2']).mean()\n",
        "print(group_means)"
      ],
      "metadata": {
        "colab": {
          "base_uri": "https://localhost:8080/"
        },
        "id": "yOf0zqMB8wwE",
        "outputId": "2db68cd4-9537-49c4-e7f5-a53c295b0d57"
      },
      "execution_count": null,
      "outputs": [
        {
          "output_type": "stream",
          "name": "stdout",
          "text": [
            "                     Values\n",
            "Category1 Category2        \n",
            "A         X            10.0\n",
            "          Y            20.0\n",
            "B         X            30.0\n",
            "          Y            40.0\n"
          ]
        }
      ]
    },
    {
      "cell_type": "markdown",
      "source": [
        "# ***SQL Sample questions***\n"
      ],
      "metadata": {
        "id": "qG9GSr14Sl57"
      }
    },
    {
      "cell_type": "markdown",
      "source": [
        "**Online SQL IDE for quick practice - https://sqliteonline.com/**\n",
        "\n",
        "**Demo Video for IDE - https://youtu.be/Qk11S9a6hAI?si=65n09tXZQCV4RsbS**"
      ],
      "metadata": {
        "id": "BXDlZxrL4hYm"
      }
    },
    {
      "cell_type": "markdown",
      "source": [
        "#**SQL Case Study - I**\n",
        "\n",
        "### **Database:** **sales_db**\n",
        "\n"
      ],
      "metadata": {
        "id": "gxcvBPosSuKv"
      }
    },
    {
      "cell_type": "markdown",
      "source": [
        "![image.png](data:image/png;base64,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)"
      ],
      "metadata": {
        "id": "pJW-MEKFVl1i"
      }
    },
    {
      "cell_type": "markdown",
      "source": [
        "\n",
        "\n",
        "```\n",
        "-- Creating the products table\n",
        "CREATE TABLE products (\n",
        "    product_id INT PRIMARY KEY,\n",
        "    product_name VARCHAR(255),\n",
        "    category VARCHAR(255),\n",
        "    price INT,\n",
        "    stock INT\n",
        ");\n",
        "\n",
        "-- Inserting data into the products table\n",
        "INSERT INTO products (product_id, product_name, category, price, stock) VALUES\n",
        "(1, 'Laptop', 'Electronics', 1000, 50),\n",
        "(2, 'Smartphone', 'Electronics', 800, 100),\n",
        "(3, 'Tablet', 'Electronics', 500, 150),\n",
        "(4, 'Headphones', 'Accessories', 100, 200),\n",
        "(5, 'Keyboard', 'Accessories', 50, 300);\n",
        "\n",
        "-- Creating the sales table\n",
        "CREATE TABLE sales (\n",
        "    sale_id INT PRIMARY KEY,\n",
        "    product_id INT,\n",
        "    sale_date DATE,\n",
        "    quantity INT,\n",
        "    total_amount INT,\n",
        "    FOREIGN KEY (product_id) REFERENCES products(product_id)\n",
        ");\n",
        "\n",
        "-- Inserting data into the sales table\n",
        "INSERT INTO sales (sale_id, product_id, sale_date, quantity, total_amount) VALUES\n",
        "(1, 1, '2024-01-01', 5, 5000),\n",
        "(2, 2, '2024-01-02', 10, 8000),\n",
        "(3, 3, '2024-01-03', 8, 4000),\n",
        "(4, 4, '2024-01-04', 20, 2000),\n",
        "(5, 5, '2024-01-05', 25, 1250);\n",
        "\n",
        "```\n",
        "\n"
      ],
      "metadata": {
        "id": "LpgKkikz24np"
      }
    },
    {
      "cell_type": "markdown",
      "source": [
        "**Q1) List the total quantity sold for each product.**"
      ],
      "metadata": {
        "id": "Plf_VAlLV0uF"
      }
    },
    {
      "cell_type": "code",
      "source": [
        "SELECT p.product_name, SUM(s.quantity) AS total_quantity_sold\n",
        "FROM sales s\n",
        "JOIN products p ON s.product_id = p.product_id\n",
        "GROUP BY p.product_name;"
      ],
      "metadata": {
        "id": "Cp4z-aq7VsNN"
      },
      "execution_count": null,
      "outputs": []
    },
    {
      "cell_type": "markdown",
      "source": [
        "| product_name | total_quantity_sold |\n",
        "|--------------|---------------------|\n",
        "| Laptop       | 5                   |\n",
        "| Smartphone   | 10                  |\n",
        "| Tablet       | 8                   |\n",
        "| Headphones   | 20                  |\n",
        "| Keyboard     | 25                  |\n"
      ],
      "metadata": {
        "id": "B1C4scrbV6--"
      }
    },
    {
      "cell_type": "markdown",
      "source": [
        "**Q2) Find the average price of products in each category.**"
      ],
      "metadata": {
        "id": "BlXBwdhxWBj5"
      }
    },
    {
      "cell_type": "code",
      "source": [
        "SELECT category, AVG(price) AS average_price\n",
        "FROM products\n",
        "GROUP BY category;"
      ],
      "metadata": {
        "id": "C0BMbaQmWHbQ"
      },
      "execution_count": null,
      "outputs": []
    },
    {
      "cell_type": "markdown",
      "source": [
        "| category    | average_price |\n",
        "|-------------|---------------|\n",
        "| Electronics | 766.67        |\n",
        "| Accessories | 75            |\n"
      ],
      "metadata": {
        "id": "dJSFAX_VWLxU"
      }
    },
    {
      "cell_type": "markdown",
      "source": [
        "**Q3) List all products that have not been sold.**"
      ],
      "metadata": {
        "id": "XO5DZzZ7WgZl"
      }
    },
    {
      "cell_type": "code",
      "source": [
        "SELECT * FROM products\n",
        "WHERE product_id NOT IN (SELECT DISTINCT product_id FROM sales);\n"
      ],
      "metadata": {
        "id": "tG05cmgeWopF"
      },
      "execution_count": null,
      "outputs": []
    },
    {
      "cell_type": "markdown",
      "source": [
        "No rows are returned as all products have been sold at least once."
      ],
      "metadata": {
        "id": "MdQV9brcWr6Q"
      }
    },
    {
      "cell_type": "markdown",
      "source": [
        "**Q4) Find the highest and lowest priced products.**\n",
        "\n"
      ],
      "metadata": {
        "id": "6vBDpucMWwqw"
      }
    },
    {
      "cell_type": "code",
      "source": [
        "SELECT product_name, price FROM products\n",
        "ORDER BY price DESC\n",
        "LIMIT 1;\n",
        "\n",
        "SELECT product_name, price FROM products\n",
        "ORDER BY price ASC\n",
        "LIMIT 1;\n"
      ],
      "metadata": {
        "id": "vmwrbkJvW24_"
      },
      "execution_count": null,
      "outputs": []
    },
    {
      "cell_type": "markdown",
      "source": [
        "\n",
        "\n",
        "```\n",
        "Highest priced product:\n",
        "| product_name | price |\n",
        "|--------------|-------|\n",
        "| Laptop       | 1000  |\n",
        "```\n",
        "\n",
        "\n",
        "```\n",
        "Lowest priced product:\n",
        "| product_name | price |\n",
        "|--------------|-------|\n",
        "| Keyboard     | 50    |\n",
        "\n",
        "```"
      ],
      "metadata": {
        "id": "uG8jB6DJW8nS"
      }
    },
    {
      "cell_type": "markdown",
      "source": [
        "**Q5) Calculate the total revenue generated for each product.**"
      ],
      "metadata": {
        "id": "0O16TC46XBrI"
      }
    },
    {
      "cell_type": "code",
      "source": [
        "SELECT p.product_name, SUM(s.total_amount) AS total_revenue\n",
        "FROM sales s\n",
        "JOIN products p ON s.product_id = p.product_id\n",
        "GROUP BY p.product_name;"
      ],
      "metadata": {
        "id": "4btoy3w3XYv1"
      },
      "execution_count": null,
      "outputs": []
    },
    {
      "cell_type": "markdown",
      "source": [
        "| product_name | total_revenue |\n",
        "|--------------|---------------|\n",
        "| Laptop       | 5000          |\n",
        "| Smartphone   | 8000          |\n",
        "| Tablet       | 4000          |\n",
        "| Headphones   | 2000          |\n",
        "| Keyboard     | 1250          |\n"
      ],
      "metadata": {
        "id": "x_KXY5NIXeQ2"
      }
    },
    {
      "cell_type": "markdown",
      "source": [
        "#**SQL Case Study - II**"
      ],
      "metadata": {
        "id": "_ziWsfn_ytnX"
      }
    },
    {
      "cell_type": "markdown",
      "source": [
        "![image.png](data:image/png;base64,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)"
      ],
      "metadata": {
        "id": "3CVDy46NfpjB"
      }
    },
    {
      "cell_type": "markdown",
      "source": [
        "\n",
        "\n",
        "```\n",
        "-- Creating the employees table\n",
        "CREATE TABLE employees (\n",
        "    emp_id INT PRIMARY KEY,\n",
        "    first_name VARCHAR(255),\n",
        "    last_name VARCHAR(255),\n",
        "    department VARCHAR(255),\n",
        "    salary INT,\n",
        "    hire_date DATE\n",
        ");\n",
        "\n",
        "-- Inserting data into the employees table\n",
        "INSERT INTO employees (emp_id, first_name, last_name, department, salary, hire_date) VALUES\n",
        "(1, 'John', 'Doe', 'HR', 50000, '2020-01-15'),\n",
        "(2, 'Jane', 'Smith', 'IT', 60000, '2019-03-01'),\n",
        "(3, 'Mary', 'Johnson', 'Finance', 70000, '2018-07-23'),\n",
        "(4, 'James', 'Brown', 'IT', 55000, '2021-06-10'),\n",
        "(5, 'Patricia', 'Taylor', 'HR', 48000, '2017-11-30');\n",
        "\n",
        "-- Creating the projects table\n",
        "CREATE TABLE projects (\n",
        "    proj_id INT PRIMARY KEY,\n",
        "    proj_name VARCHAR(255),\n",
        "    start_date DATE,\n",
        "    end_date DATE,\n",
        "    budget INT\n",
        ");\n",
        "\n",
        "-- Inserting data into the projects table\n",
        "INSERT INTO projects (proj_id, proj_name, start_date, end_date, budget) VALUES\n",
        "(101, 'Alpha', '2021-01-01', '2021-06-30', 100000),\n",
        "(102, 'Beta', '2021-03-15', '2021-12-31', 150000),\n",
        "(103, 'Gamma', '2020-08-01', '2021-02-28', 75000),\n",
        "(104, 'Delta', '2022-02-01', '2022-08-31', 200000);\n",
        "\n",
        "```\n",
        "\n"
      ],
      "metadata": {
        "id": "qfWXV4aF29sM"
      }
    },
    {
      "cell_type": "markdown",
      "source": [
        "**Q6) Calculate the average salary for each department.**\n",
        "\n",
        "\n"
      ],
      "metadata": {
        "id": "vkSb6IgMf3fM"
      }
    },
    {
      "cell_type": "code",
      "source": [
        "SELECT department, AVG(salary) AS avg_salary\n",
        "FROM employees\n",
        "GROUP BY department;"
      ],
      "metadata": {
        "id": "5mjpjMB3Xgz0"
      },
      "execution_count": null,
      "outputs": []
    },
    {
      "cell_type": "markdown",
      "source": [
        "\n",
        "\n",
        "```\n",
        "Expected Output:\n",
        "\n",
        "department\tavg_salary\n",
        "HR\t         49000\n",
        "IT\t         57500\n",
        "Finance\t    70000\n",
        "```\n",
        "\n"
      ],
      "metadata": {
        "id": "0MStlW0SgCRZ"
      }
    },
    {
      "cell_type": "markdown",
      "source": [
        "**Q7) List all employees who were hired after January 1, 2020.**\n",
        "\n",
        "\n"
      ],
      "metadata": {
        "id": "0vGhtqDkgLcU"
      }
    },
    {
      "cell_type": "code",
      "source": [
        "SELECT emp_id, first_name, last_name, hire_date\n",
        "FROM employees\n",
        "WHERE hire_date > '2020-01-01';"
      ],
      "metadata": {
        "id": "YDQ7fYCfgQ2B"
      },
      "execution_count": null,
      "outputs": []
    },
    {
      "cell_type": "markdown",
      "source": [
        "\n",
        "\n",
        "```\n",
        "emp_id\tfirst_name\tlast_name\t  hire_date\n",
        "1\t       John\t        Doe\t      2020-01-15\n",
        "4\t       James\t       Brown\t    2021-06-10\n",
        "```\n",
        "\n"
      ],
      "metadata": {
        "id": "qxA8uat3gWzZ"
      }
    },
    {
      "cell_type": "markdown",
      "source": [
        "**Q8) Calculate the total budget of projects that were active at any point in 2021.**\n",
        "\n",
        "\n",
        "\n"
      ],
      "metadata": {
        "id": "pR8-qlt3gZ6N"
      }
    },
    {
      "cell_type": "code",
      "source": [
        "SELECT SUM(budget) AS total_budget\n",
        "FROM projects\n",
        "WHERE start_date <= '2021-12-31' AND end_date >= '2021-01-01';"
      ],
      "metadata": {
        "id": "YA-JEf9tgj9t"
      },
      "execution_count": null,
      "outputs": []
    },
    {
      "cell_type": "markdown",
      "source": [
        "\n",
        "\n",
        "```\n",
        "Expected Output:\n",
        "\n",
        "total_budget\n",
        "325000\n",
        "```\n",
        "\n"
      ],
      "metadata": {
        "id": "I5GP6pKEgnaM"
      }
    },
    {
      "cell_type": "markdown",
      "source": [
        "**Q9) Create a query that returns the full name of each employee in a single column.**\n",
        "\n",
        "\n",
        "\n"
      ],
      "metadata": {
        "id": "R-73XAUYgsCC"
      }
    },
    {
      "cell_type": "code",
      "source": [
        "SELECT CONCAT(first_name, ' ', last_name) AS full_name\n",
        "FROM employees;"
      ],
      "metadata": {
        "id": "Ewt51xszg0WE"
      },
      "execution_count": null,
      "outputs": []
    },
    {
      "cell_type": "markdown",
      "source": [
        "\n",
        "\n",
        "```\n",
        "Expected Output:\n",
        "\n",
        "full_name\n",
        "John Doe\n",
        "Jane Smith\n",
        "Mary Johnson\n",
        "James Brown\n",
        "Patricia Taylor\n",
        "```\n",
        "\n"
      ],
      "metadata": {
        "id": "FWm_K1b_g1Im"
      }
    },
    {
      "cell_type": "markdown",
      "source": [
        "**Q10) Calculate the duration of each project in days.**\n",
        "\n",
        "\n",
        "\n"
      ],
      "metadata": {
        "id": "W2dNwqX9g5S7"
      }
    },
    {
      "cell_type": "code",
      "source": [
        "SELECT proj_name, DATEDIFF(end_date, start_date) AS duration_days\n",
        "FROM projects;"
      ],
      "metadata": {
        "id": "Kvo_v4Vxg_vD"
      },
      "execution_count": null,
      "outputs": []
    },
    {
      "cell_type": "markdown",
      "source": [
        "\n",
        "\n",
        "```\n",
        "Expected Output:\n",
        "\n",
        "proj_name\tduration_days\n",
        "Alpha\t         180\n",
        "Beta\t          291\n",
        "Gamma\t         211\n",
        "Delta\t         211\n",
        "```\n",
        "\n"
      ],
      "metadata": {
        "id": "32BqdyU7hCO0"
      }
    },
    {
      "cell_type": "markdown",
      "source": [
        "#**SQL Case Study - III**\n",
        "\n"
      ],
      "metadata": {
        "id": "_r3WKPxzyx8M"
      }
    },
    {
      "cell_type": "markdown",
      "source": [
        "![image.png](data:image/png;base64,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)"
      ],
      "metadata": {
        "id": "ib_knHrIy3H3"
      }
    },
    {
      "cell_type": "markdown",
      "source": [
        "![image.png](data:image/png;base64,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)"
      ],
      "metadata": {
        "id": "6pjRsE_JzhUf"
      }
    },
    {
      "cell_type": "markdown",
      "source": [
        "\n",
        "\n",
        "```\n",
        "-- Creating the employees table\n",
        "CREATE TABLE employees (\n",
        "    emp_id INT PRIMARY KEY,\n",
        "    first_name VARCHAR(255),\n",
        "    last_name VARCHAR(255),\n",
        "    department VARCHAR(255),\n",
        "    salary INT,\n",
        "    hire_date DATE\n",
        ");\n",
        "\n",
        "-- Inserting data into the employees table\n",
        "INSERT INTO employees (emp_id, first_name, last_name, department, salary, hire_date) VALUES\n",
        "(1, 'John', 'Doe', 'HR', 50000, '2020-01-15'),\n",
        "(2, 'Jane', 'Smith', 'IT', 60000, '2019-03-01'),\n",
        "(3, 'Mary', 'Johnson', 'Finance', 70000, '2018-07-23'),\n",
        "(4, 'James', 'Brown', 'IT', 55000, '2021-06-10'),\n",
        "(5, 'Patricia', 'Taylor', 'HR', 48000, '2017-11-30');\n",
        "\n",
        "-- Creating the projects table\n",
        "CREATE TABLE projects (\n",
        "    proj_id INT PRIMARY KEY,\n",
        "    proj_name VARCHAR(255),\n",
        "    start_date DATE,\n",
        "    end_date DATE,\n",
        "    budget INT\n",
        ");\n",
        "\n",
        "-- Inserting data into the projects table\n",
        "INSERT INTO projects (proj_id, proj_name, start_date, end_date, budget) VALUES\n",
        "(101, 'Alpha', '2021-01-01', '2021-06-30', 100000),\n",
        "(102, 'Beta', '2021-03-15', '2021-12-31', 150000),\n",
        "(103, 'Gamma', '2020-08-01', '2021-02-28', 75000),\n",
        "(104, 'Delta', '2022-02-01', '2022-08-31', 200000);\n",
        "\n",
        "-- Creating the assignments table\n",
        "CREATE TABLE assignments (\n",
        "    assign_id INT PRIMARY KEY,\n",
        "    emp_id INT,\n",
        "    proj_id INT,\n",
        "    hours_worked INT,\n",
        "    FOREIGN KEY (emp_id) REFERENCES employees(emp_id),\n",
        "    FOREIGN KEY (proj_id) REFERENCES projects(proj_id)\n",
        ");\n",
        "\n",
        "-- Inserting data into the assignments table\n",
        "INSERT INTO assignments (assign_id, emp_id, proj_id, hours_worked) VALUES\n",
        "(1, 1, 101, 100),\n",
        "(2, 2, 102, 200),\n",
        "(3, 3, 103, 150),\n",
        "(4, 4, 102, 120),\n",
        "(5, 5, 104, 160),\n",
        "(6, 1, 103, 80),\n",
        "(7, 3, 104, 140);\n",
        "\n",
        "```\n",
        "\n"
      ],
      "metadata": {
        "id": "T7vckv333Igt"
      }
    },
    {
      "cell_type": "markdown",
      "source": [
        "**Q11) List employees who have worked on more than one project.**"
      ],
      "metadata": {
        "id": "G5lN_YstzsRg"
      }
    },
    {
      "cell_type": "code",
      "source": [
        "SELECT e.emp_id, e.first_name, e.last_name, COUNT(a.proj_id) AS project_count\n",
        "FROM employees e\n",
        "JOIN assignments a ON e.emp_id = a.emp_id\n",
        "GROUP BY e.emp_id, e.first_name, e.last_name\n",
        "HAVING COUNT(a.proj_id) > 1;"
      ],
      "metadata": {
        "id": "2RSAgGvhzb6d"
      },
      "execution_count": null,
      "outputs": []
    },
    {
      "cell_type": "markdown",
      "source": [
        "**Expected Output:**\n",
        "\n",
        "\n",
        "\n",
        "```\n",
        "emp_id\tfirst_name\tlast_name\t   project_count\n",
        "1\t        John\t      Doe\t           2\n",
        "3\t        Mary\t      Johnson\t       2\n",
        "```\n",
        "\n"
      ],
      "metadata": {
        "id": "U0Ch3Xydzz2q"
      }
    },
    {
      "cell_type": "markdown",
      "source": [
        "**Q12) Calculate the total hours worked by employees in each department.**\n",
        "\n",
        "\n",
        "\n"
      ],
      "metadata": {
        "id": "5FxJQrfrz9Kp"
      }
    },
    {
      "cell_type": "code",
      "source": [
        "SELECT e.department, SUM(a.hours_worked) AS total_hours\n",
        "FROM employees e\n",
        "JOIN assignments a ON e.emp_id = a.emp_id\n",
        "GROUP BY e.department;"
      ],
      "metadata": {
        "id": "c3aY72Ph0FzY"
      },
      "execution_count": null,
      "outputs": []
    },
    {
      "cell_type": "markdown",
      "source": [
        "**Expected Output:**\n",
        "\n",
        "\n",
        "\n",
        "```\n",
        "department\ttotal_hours\n",
        "HR\t           260\n",
        "IT\t           320\n",
        "Finance\t      290\n",
        "```\n",
        "\n"
      ],
      "metadata": {
        "id": "wWIwiN-t0NLw"
      }
    },
    {
      "cell_type": "markdown",
      "source": [
        "**Q13) Find projects that have no employees assigned.**\n",
        "\n",
        "\n",
        "\n"
      ],
      "metadata": {
        "id": "Q7HzQ1Ex0Vpd"
      }
    },
    {
      "cell_type": "code",
      "source": [
        "SELECT p.proj_id, p.proj_name\n",
        "FROM projects p\n",
        "LEFT JOIN assignments a ON p.proj_id = a.proj_id\n",
        "WHERE a.emp_id IS NULL;"
      ],
      "metadata": {
        "id": "kJsdMDL40cIy"
      },
      "execution_count": null,
      "outputs": []
    },
    {
      "cell_type": "markdown",
      "source": [
        "**Expected Output:**\n",
        "\n",
        "\n",
        "\n",
        "```\n",
        "proj_id\tproj_name\n",
        "104\t     Delta\n",
        "```\n",
        "\n"
      ],
      "metadata": {
        "id": "O6a8JJnv0Zn0"
      }
    },
    {
      "cell_type": "markdown",
      "source": [
        "**Q14) Find the highest budget project in each department, considering only projects that have employees assigned from that department.**\n",
        "\n",
        "\n"
      ],
      "metadata": {
        "id": "amRf8LcS0sQV"
      }
    },
    {
      "cell_type": "code",
      "source": [
        "SELECT e.department, p.proj_name, MAX(p.budget) AS max_budget\n",
        "FROM employees e\n",
        "JOIN assignments a ON e.emp_id = a.emp_id\n",
        "JOIN projects p ON a.proj_id = p.proj_id\n",
        "GROUP BY e.department, p.proj_name\n",
        "ORDER BY e.department, max_budget DESC;\n"
      ],
      "metadata": {
        "id": "NrGOBchC0xOP"
      },
      "execution_count": null,
      "outputs": []
    },
    {
      "cell_type": "markdown",
      "source": [
        "**Expected Output:**\n",
        "\n",
        "\n",
        "\n",
        "```\n",
        "department\tproj_name\tmax_budget\n",
        "Finance\t      Delta\t   200000\n",
        "HR\t          Alpha\t    100000\n",
        "IT\t          Beta\t     150000\n",
        "```\n",
        "\n"
      ],
      "metadata": {
        "id": "zGaTXCN000yo"
      }
    },
    {
      "cell_type": "markdown",
      "source": [
        "**Q15) Calculate the average salary of employees who have been assigned to projects.**\n",
        "\n",
        "\n"
      ],
      "metadata": {
        "id": "hhY5cHvT04j1"
      }
    },
    {
      "cell_type": "code",
      "source": [
        "SELECT AVG(e.salary) AS average_salary\n",
        "FROM employees e\n",
        "WHERE e.emp_id IN (SELECT DISTINCT emp_id FROM assignments);"
      ],
      "metadata": {
        "id": "XwmKsues1K5t"
      },
      "execution_count": null,
      "outputs": []
    },
    {
      "cell_type": "markdown",
      "source": [
        "**Expected Output:**\n",
        "\n",
        "\n",
        "```\n",
        "average_salary\n",
        "56666.67\n",
        "\n",
        "```\n",
        "\n"
      ],
      "metadata": {
        "id": "s33ITXt41D2W"
      }
    }
  ]
}