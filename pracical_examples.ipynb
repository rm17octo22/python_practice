{
  "nbformat": 4,
  "nbformat_minor": 0,
  "metadata": {
    "colab": {
      "provenance": [],
      "authorship_tag": "ABX9TyNrqY9LzKSY6Kkc+Syvrov5",
      "include_colab_link": true
    },
    "kernelspec": {
      "name": "python3",
      "display_name": "Python 3"
    },
    "language_info": {
      "name": "python"
    }
  },
  "cells": [
    {
      "cell_type": "markdown",
      "metadata": {
        "id": "view-in-github",
        "colab_type": "text"
      },
      "source": [
        "<a href=\"https://colab.research.google.com/github/rm17octo22/python_practice/blob/main/pracical_examples.ipynb\" target=\"_parent\"><img src=\"https://colab.research.google.com/assets/colab-badge.svg\" alt=\"Open In Colab\"/></a>"
      ]
    },
    {
      "cell_type": "code",
      "execution_count": 2,
      "metadata": {
        "colab": {
          "base_uri": "https://localhost:8080/"
        },
        "id": "NjjdksbNlVnH",
        "outputId": "794b9c93-e774-42c7-a639-a783104eef28"
      },
      "outputs": [
        {
          "output_type": "stream",
          "name": "stdout",
          "text": [
            "enter a number : 7\n",
            "odd\n",
            "Weird\n"
          ]
        }
      ],
      "source": [
        "#Task\n",
        "# Given an integer, , perform the following conditional actions:\n",
        "\n",
        "# If  is odd, print Weird\n",
        "# If  is even and in the inclusive range of  to , print Not Weird\n",
        "# If  is even and in the inclusive range of  to , print Weird\n",
        "# If  is even and greater than , print Not Weird\n",
        "\n",
        "n = int(input(\"enter a number : \"))\n",
        "\n",
        "if n%2 == 0:\n",
        "    print(\"even\")\n",
        "    if 2 <= n <= 5 :\n",
        "        print('Not Wired')\n",
        "    elif 6 <= n <= 20 :\n",
        "        print('wired')\n",
        "    elif n > 20 :\n",
        "        print('not wired')\n",
        "    else:\n",
        "        print('wrong number')\n",
        "else :\n",
        "    print('odd')\n",
        "    print(\"Weird\")"
      ]
    },
    {
      "cell_type": "code",
      "source": [],
      "metadata": {
        "id": "PDq6Tjlqmh23"
      },
      "execution_count": null,
      "outputs": []
    }
  ]
}